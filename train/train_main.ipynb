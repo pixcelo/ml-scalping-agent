{
 "cells": [
  {
   "cell_type": "code",
   "execution_count": 1,
   "metadata": {},
   "outputs": [],
   "source": [
    "import pandas as pd\n",
    "import numpy as np\n",
    "from agent import Agent\n",
    "from trading_env import TradingEnv\n",
    "from trading_env_plotter import TradingEnvPlotter"
   ]
  },
  {
   "cell_type": "code",
   "execution_count": 2,
   "metadata": {},
   "outputs": [
    {
     "name": "stdout",
     "output_type": "stream",
     "text": [
      "Episode 1/300 - Total Reward: -738384131.98\n"
     ]
    },
    {
     "ename": "TypeError",
     "evalue": "new(): data must be a sequence (got numpy.float64)",
     "output_type": "error",
     "traceback": [
      "\u001b[0;31m---------------------------------------------------------------------------\u001b[0m",
      "\u001b[0;31mTypeError\u001b[0m                                 Traceback (most recent call last)",
      "Cell \u001b[0;32mIn[2], line 50\u001b[0m\n\u001b[1;32m     46\u001b[0m     plotter\u001b[39m.\u001b[39mplot_prices_and_trades()\n\u001b[1;32m     49\u001b[0m \u001b[39mif\u001b[39;00m \u001b[39m__name__\u001b[39m \u001b[39m==\u001b[39m \u001b[39m\"\u001b[39m\u001b[39m__main__\u001b[39m\u001b[39m\"\u001b[39m:\n\u001b[0;32m---> 50\u001b[0m     main()\n",
      "Cell \u001b[0;32mIn[2], line 26\u001b[0m, in \u001b[0;36mmain\u001b[0;34m()\u001b[0m\n\u001b[1;32m     23\u001b[0m total_reward \u001b[39m=\u001b[39m \u001b[39m0\u001b[39m\n\u001b[1;32m     25\u001b[0m \u001b[39mwhile\u001b[39;00m \u001b[39mTrue\u001b[39;00m:\n\u001b[0;32m---> 26\u001b[0m     action \u001b[39m=\u001b[39m agent\u001b[39m.\u001b[39;49mselect_action(state, epsilon)\n\u001b[1;32m     27\u001b[0m     next_state, reward, done \u001b[39m=\u001b[39m env\u001b[39m.\u001b[39mstep(action)\n\u001b[1;32m     29\u001b[0m     \u001b[39m# For visualization later\u001b[39;00m\n",
      "File \u001b[0;32m~/dev/python/scalping-agent/train/agent.py:19\u001b[0m, in \u001b[0;36mAgent.select_action\u001b[0;34m(self, state, epsilon)\u001b[0m\n\u001b[1;32m     17\u001b[0m \u001b[39melse\u001b[39;00m:\n\u001b[1;32m     18\u001b[0m     \u001b[39mwith\u001b[39;00m torch\u001b[39m.\u001b[39mno_grad():\n\u001b[0;32m---> 19\u001b[0m         q_values \u001b[39m=\u001b[39m \u001b[39mself\u001b[39m\u001b[39m.\u001b[39mqnetwork(torch\u001b[39m.\u001b[39;49mFloatTensor(state))\n\u001b[1;32m     20\u001b[0m         \u001b[39mreturn\u001b[39;00m torch\u001b[39m.\u001b[39margmax(q_values)\u001b[39m.\u001b[39mitem()\n",
      "\u001b[0;31mTypeError\u001b[0m: new(): data must be a sequence (got numpy.float64)"
     ]
    }
   ],
   "source": [
    "# Hyperparameters\n",
    "EPISODES = 300\n",
    "EPS_START = 1.0\n",
    "EPS_DECAY = 0.995\n",
    "EPS_MIN = 0.01\n",
    "LEARNING_RATE = 0.001\n",
    "GAMMA = 0.99\n",
    "INPUT_DIM = 1\n",
    "\n",
    "def main():\n",
    "    # ヒストリカルデータの読み込み\n",
    "    df = pd.read_csv('../csv/BTCUSDT_1m_20210801_20221231.csv')\n",
    "    prices = df['close'].values\n",
    "\n",
    "    # 環境、エージェント、プロッターの初期化\n",
    "    env = TradingEnv(prices)\n",
    "    agent = Agent(INPUT_DIM, action_dim=5, learning_rate=LEARNING_RATE, gamma=GAMMA)\n",
    "    plotter = TradingEnvPlotter(env)\n",
    "\n",
    "    epsilon = EPS_START\n",
    "    for episode in range(1, EPISODES + 1):\n",
    "        state = env.reset()\n",
    "        total_reward = 0\n",
    "\n",
    "        while True:\n",
    "            action = agent.select_action(state, epsilon)\n",
    "            next_state, reward, done = env.step(action)\n",
    "\n",
    "            # For visualization later\n",
    "            plotter.record_step(action)\n",
    "\n",
    "            agent.train(state, action, reward, next_state, done)\n",
    "\n",
    "            state = next_state\n",
    "            total_reward += reward\n",
    "\n",
    "            if done:\n",
    "                break\n",
    "\n",
    "        epsilon = max(epsilon * EPS_DECAY, EPS_MIN)\n",
    "        print(f\"Episode {episode}/{EPISODES} - Total Reward: {total_reward:.2f}\")\n",
    "\n",
    "    # Visualization after training\n",
    "    plotter.plot_balance()\n",
    "    plotter.plot_actions()\n",
    "    plotter.plot_prices_and_trades()\n",
    "\n",
    "\n",
    "if __name__ == \"__main__\":\n",
    "    main()\n"
   ]
  },
  {
   "cell_type": "code",
   "execution_count": null,
   "metadata": {},
   "outputs": [],
   "source": []
  }
 ],
 "metadata": {
  "kernelspec": {
   "display_name": "venv",
   "language": "python",
   "name": "python3"
  },
  "language_info": {
   "codemirror_mode": {
    "name": "ipython",
    "version": 3
   },
   "file_extension": ".py",
   "mimetype": "text/x-python",
   "name": "python",
   "nbconvert_exporter": "python",
   "pygments_lexer": "ipython3",
   "version": "3.11.4"
  },
  "orig_nbformat": 4
 },
 "nbformat": 4,
 "nbformat_minor": 2
}
