{
 "cells": [
  {
   "cell_type": "code",
   "execution_count": null,
   "metadata": {},
   "outputs": [],
   "source": [
    "import pandas as pd\n",
    "import numpy as np\n",
    "from agent import Agent\n",
    "from trading_env import TradingEnv\n",
    "from trading_env_plotter import TradingEnvPlotter\n",
    "from sklearn.model_selection import train_test_split"
   ]
  },
  {
   "cell_type": "code",
   "execution_count": null,
   "metadata": {},
   "outputs": [],
   "source": [
    "# Hyperparameters\n",
    "EPISODES = 300\n",
    "LEARNING_RATE = 0.001\n",
    "GAMMA = 0.99\n",
    "INPUT_DIM = 1\n",
    "\n",
    "\n",
    "df = pd.read_csv('../csv/BTCUSDT_1m_20210801_20221231.csv')\n",
    "\n",
    "# Assume 80% of the data is used for training and 20% for testing\n",
    "train_df, test_df = train_test_split(df, test_size=0.2, shuffle=False)\n",
    "\n",
    "prices = train_df['close'].values\n",
    "\n",
    "env = TradingEnv(prices)\n",
    "agent = Agent(INPUT_DIM, action_dim=5, learning_rate=LEARNING_RATE, gamma=GAMMA)\n",
    "plotter = TradingEnvPlotter(env)\n",
    "\n",
    "for episode in range(1, EPISODES + 1):\n",
    "    state = env.reset()\n",
    "    total_reward = 0\n",
    "\n",
    "    while True:\n",
    "        action = agent.select_action(state)\n",
    "        next_state, reward, done = env.step(action)\n",
    "\n",
    "        # teFor visualization later\n",
    "        plotter.record_step(action)\n",
    "        plotter.record_episode_reward(total_reward)\n",
    "\n",
    "        agent.train(state, action, reward, next_state, done)\n",
    "\n",
    "        state = next_state\n",
    "        total_reward += reward\n",
    "        # print(reward\n",
    "\n",
    "        if done:\n",
    "            break\n",
    "\n",
    "    print(f\"Episode {episode}/{EPISODES} - Total Reward: {total_reward:.2f}\")\n",
    "\n",
    "# Visualization after training\n",
    "plotter.plot_balance()\n",
    "plotter.plot_actions()\n",
    "plotter.plot_prices_and_trades()\n",
    "plotter.plot_episode_rewards()\n"
   ]
  },
  {
   "cell_type": "code",
   "execution_count": null,
   "metadata": {},
   "outputs": [],
   "source": [
    "agent.save_model('../model/model_scalping.pth')"
   ]
  },
  {
   "cell_type": "code",
   "execution_count": null,
   "metadata": {},
   "outputs": [],
   "source": [
    "# Inference Phase\n",
    "test_prices = test_df['close'].values\n",
    "\n",
    "test_env = TradingEnv(test_prices)\n",
    "test_plotter = TradingEnvPlotter(test_env)\n",
    "\n",
    "# Load the trained model for inference\n",
    "agent.load_model('../model/model_scalping.pth')\n",
    "\n",
    "state = test_env.reset()\n",
    "while True:\n",
    "    action = agent.select_action(state)\n",
    "    next_state, _, done = test_env.step(action)  # We don't need reward during inference\n",
    "\n",
    "    # For visualization\n",
    "    test_plotter.record_step(action)\n",
    "\n",
    "    state = next_state\n",
    "    if done:\n",
    "        break\n",
    "\n",
    "# Visualization after inference\n",
    "test_plotter.plot_balance()\n",
    "test_plotter.plot_actions()\n",
    "test_plotter.plot_prices_and_trades()\n"
   ]
  },
  {
   "cell_type": "code",
   "execution_count": null,
   "metadata": {},
   "outputs": [],
   "source": []
  }
 ],
 "metadata": {
  "kernelspec": {
   "display_name": "venv",
   "language": "python",
   "name": "python3"
  },
  "language_info": {
   "codemirror_mode": {
    "name": "ipython",
    "version": 3
   },
   "file_extension": ".py",
   "mimetype": "text/x-python",
   "name": "python",
   "nbconvert_exporter": "python",
   "pygments_lexer": "ipython3",
   "version": "3.11.4"
  },
  "orig_nbformat": 4
 },
 "nbformat": 4,
 "nbformat_minor": 2
}
